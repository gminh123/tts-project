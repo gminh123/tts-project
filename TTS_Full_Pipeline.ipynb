{
 "cells": [
  {
   "cell_type": "markdown",
   "id": "a155e8d5",
   "metadata": {},
   "source": [
    "# 🔊 Full Text-to-Speech (TTS) Pipeline - Tacotron2 + HiFi-GAN"
   ]
  },
  {
   "cell_type": "markdown",
   "id": "5efe1352",
   "metadata": {},
   "source": [
    "## 1. Preprocessing - Convert WAV to Mel Spectrogram"
   ]
  },
  {
   "cell_type": "code",
   "execution_count": null,
   "id": "387f189b",
   "metadata": {},
   "outputs": [],
   "source": [
    "!python preprocess.py"
   ]
  },
  {
   "cell_type": "markdown",
   "id": "e8e9d3fd",
   "metadata": {},
   "source": [
    "## 2. Train Tacotron2 Model"
   ]
  },
  {
   "cell_type": "code",
   "execution_count": null,
   "id": "0d530d2d",
   "metadata": {},
   "outputs": [],
   "source": [
    "!python train_tacotron2.py"
   ]
  },
  {
   "cell_type": "markdown",
   "id": "5b0f9f1d",
   "metadata": {},
   "source": [
    "## 3. Prepare mel/wav folders for HiFi-GAN"
   ]
  },
  {
   "cell_type": "code",
   "execution_count": null,
   "id": "9e17e9b9",
   "metadata": {},
   "outputs": [],
   "source": [
    "!mkdir -p trainset_hifigan/wavs\n",
    "!mkdir -p trainset_hifigan/mels\n",
    "!cp data/LJSpeech-1.1/wavs/*.wav trainset_hifigan/wavs/\n",
    "!cp data/mels/*.npy trainset_hifigan/mels/"
   ]
  },
  {
   "cell_type": "markdown",
   "id": "0f749718",
   "metadata": {},
   "source": [
    "## 4. Train HiFi-GAN *(run in `hifi-gan` folder)*"
   ]
  },
  {
   "cell_type": "code",
   "execution_count": null,
   "id": "ed9627f4",
   "metadata": {},
   "outputs": [],
   "source": [
    "# cd hifi-gan\n",
    "# python train.py --config config_v1.json --input_wavs_dir ../trainset_hifigan/wavs --input_mels_dir ../trainset_hifigan/mels --fine_tuning True"
   ]
  },
  {
   "cell_type": "markdown",
   "id": "31cd3dab",
   "metadata": {},
   "source": [
    "## 5. Inference - Generate audio from text"
   ]
  },
  {
   "cell_type": "code",
   "execution_count": null,
   "id": "935c6dfe",
   "metadata": {},
   "outputs": [],
   "source": [
    "!python inference_hifigan.py"
   ]
  }
 ],
 "metadata": {},
 "nbformat": 4,
 "nbformat_minor": 5
}